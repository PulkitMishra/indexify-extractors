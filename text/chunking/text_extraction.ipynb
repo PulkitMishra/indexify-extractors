{
 "cells": [
  {
   "cell_type": "code",
   "execution_count": 2,
   "metadata": {},
   "outputs": [
    {
     "name": "stderr",
     "output_type": "stream",
     "text": [
      "/home/mohit/indexify-extractors/ve/lib/python3.11/site-packages/tqdm/auto.py:21: TqdmWarning: IProgress not found. Please update jupyter and ipywidgets. See https://ipywidgets.readthedocs.io/en/stable/user_install.html\n",
      "  from .autonotebook import tqdm as notebook_tqdm\n"
     ]
    }
   ],
   "source": [
    "from chunk_extractor import ChunkExtractor, ChunkExtractionInputParams\n",
    "from indexify_extractor_sdk import Content"
   ]
  },
  {
   "cell_type": "code",
   "execution_count": 3,
   "metadata": {},
   "outputs": [],
   "source": [
    "extractor = ChunkExtractor()"
   ]
  },
  {
   "cell_type": "markdown",
   "metadata": {},
   "source": [
    "## Chunking\n",
    "\n",
    "Here are examples of chunking text, HTML and Markdown data, using langchain's TextSplitter. \n",
    "\n",
    "### Text Splitter\n",
    "\n",
    "Lets try to chunk a part of Steve Jobs's [commencement address](https://www.youtube.com/watch?v=UF8uR6Z6KLc) at Stanford University\n",
    "\n",
    "[RecursiveCharacterTextSplitter](https://python.langchain.com/docs/modules/data_connection/document_transformers/recursive_text_splitter)"
   ]
  },
  {
   "cell_type": "code",
   "execution_count": 4,
   "metadata": {},
   "outputs": [
    {
     "data": {
      "text/plain": [
       "Content(content_type='text/plain', data=b'I am honored to be with you today at your commencement from one of the finest universities in the world. I never graduated from college. Truth be told, this is the closest I\\xe2\\x80\\x99ve ever gotten to a college graduation. Today I want to tell you three stories from my life. That\\xe2\\x80\\x99s it. No big deal. Just three stories.\\n\\nThe first story is about connecting the dots.\\n\\nI dropped out of Reed College after the first 6 months, but then stayed around as a drop-in for another 18 months or so before I really quit. So why did I drop out?\\n\\nIt started before I was born. My biological mother was a young, unwed college graduate student, and she decided to put me up for adoption. She felt very strongly that I should be adopted by college graduates, so everything was all set for me to be adopted at birth by a lawyer and his wife. Except that when I popped out they decided at the last minute that they really wanted a girl. So my parents, who were on a waiting list, got a call in the middle of the night asking: \\xe2\\x80\\x9cWe have an unexpected baby boy; do you want him?\\xe2\\x80\\x9d They said: \\xe2\\x80\\x9cOf course.\\xe2\\x80\\x9d My biological mother later found out that my mother had never graduated from college and that my father had never graduated from high school. She refused to sign the final adoption papers. She only relented a few months later when my parents promised that I would someday go to college.\\n\\nAnd 17 years later I did go to college. But I naively chose a college that was almost as expensive as Stanford, and all of my working-class parents\\xe2\\x80\\x99 savings were being spent on my college tuition. After six months, I couldn\\xe2\\x80\\x99t see the value in it. I had no idea what I wanted to do with my life and no idea how college was going to help me figure it out. And here I was spending all of the money my parents had saved their entire life. So I decided to drop out and trust that it would all work out OK. It was pretty scary at the time, but looking back it was one of the best decisions I ever made. The minute I dropped out I could stop taking the required classes that didn\\xe2\\x80\\x99t interest me, and begin dropping in on the ones that looked interesting.\\n\\nIt wasn\\xe2\\x80\\x99t all romantic. I didn\\xe2\\x80\\x99t have a dorm room, so I slept on the floor in friends\\xe2\\x80\\x99 rooms, I returned Coke bottles for the 5\\xc2\\xa2 deposits to buy food with, and I would walk the 7 miles across town every Sunday night to get one good meal a week at the Hare Krishna temple. I loved it. And much of what I stumbled into by following my curiosity and intuition turned out to be priceless later on. Let me give you one example:\\n\\nReed College at that time offered perhaps the best calligraphy instruction in the country. Throughout the campus every poster, every label on every drawer, was beautifully hand calligraphed. Because I had dropped out and didn\\xe2\\x80\\x99t have to take the normal classes, I decided to take a calligraphy class to learn how to do this. I learned about serif and sans serif typefaces, about varying the amount of space between different letter combinations, about what makes great typography great. It was beautiful, historical, artistically subtle in a way that science can\\xe2\\x80\\x99t capture, and I found it fascinating.\\n\\nNone of this had even a hope of any practical application in my life. But 10 years later, when we were designing the first Macintosh computer, it all came back to me. And we designed it all into the Mac. It was the first computer with beautiful typography. If I had never dropped in on that single course in college, the Mac would have never had multiple typefaces or proportionally spaced fonts. And since Windows just copied the Mac, it\\xe2\\x80\\x99s likely that no personal computer would have them. If I had never dropped out, I would have never dropped in on this calligraphy class, and personal computers might not have the wonderful typography that they do. Of course it was impossible to connect the dots looking forward when I was in college. But it was very, very clear looking backward 10 years later.\\n\\nAgain, you can\\xe2\\x80\\x99t connect the dots looking forward; you can only connect them looking backward. So you have to trust that the dots will somehow connect in your future. You have to trust in something \\xe2\\x80\\x94 your gut, destiny, life, karma, whatever. This approach has never let me down, and it has made all the difference in my life.\\n\\nMy second story is about love and loss.\\n\\nI was lucky \\xe2\\x80\\x94 I found what I loved to do early in life. Woz and I started Apple in my parents\\xe2\\x80\\x99 garage when I was 20. We worked hard, and in 10 years Apple had grown from just the two of us in a garage into a $2 billion company with over 4,000 employees. We had just released our finest creation \\xe2\\x80\\x94 the Macintosh \\xe2\\x80\\x94 a year earlier, and I had just turned 30. And then I got fired. How can you get fired from a company you started? Well, as Apple grew we hired someone who I thought was very talented to run the company with me, and for the first year or so things went well. But then our visions of the future began to diverge and eventually we had a falling out. When we did, our Board of Directors sided with him. So at 30 I was out. And very publicly out. What had been the focus of my entire adult life was gone, and it was devastating.\\n\\nI really didn\\xe2\\x80\\x99t know what to do for a few months. I felt that I had let the previous generation of entrepreneurs down \\xe2\\x80\\x94 that I had dropped the baton as it was being passed to me. I met with David Packard and Bob Noyce and tried to apologize for screwing up so badly. I was a very public failure, and I even thought about running away from the valley. But something slowly began to dawn on me \\xe2\\x80\\x94 I still loved what I did. The turn of events at Apple had not changed that one bit. I had been rejected, but I was still in love. And so I decided to start over.', features=[], labels={})"
      ]
     },
     "execution_count": 4,
     "metadata": {},
     "output_type": "execute_result"
    }
   ],
   "source": [
    "text = \"\"\"I am honored to be with you today at your commencement from one of the finest universities in the world. I never graduated from college. Truth be told, this is the closest I’ve ever gotten to a college graduation. Today I want to tell you three stories from my life. That’s it. No big deal. Just three stories.\n",
    "\n",
    "The first story is about connecting the dots.\n",
    "\n",
    "I dropped out of Reed College after the first 6 months, but then stayed around as a drop-in for another 18 months or so before I really quit. So why did I drop out?\n",
    "\n",
    "It started before I was born. My biological mother was a young, unwed college graduate student, and she decided to put me up for adoption. She felt very strongly that I should be adopted by college graduates, so everything was all set for me to be adopted at birth by a lawyer and his wife. Except that when I popped out they decided at the last minute that they really wanted a girl. So my parents, who were on a waiting list, got a call in the middle of the night asking: “We have an unexpected baby boy; do you want him?” They said: “Of course.” My biological mother later found out that my mother had never graduated from college and that my father had never graduated from high school. She refused to sign the final adoption papers. She only relented a few months later when my parents promised that I would someday go to college.\n",
    "\n",
    "And 17 years later I did go to college. But I naively chose a college that was almost as expensive as Stanford, and all of my working-class parents’ savings were being spent on my college tuition. After six months, I couldn’t see the value in it. I had no idea what I wanted to do with my life and no idea how college was going to help me figure it out. And here I was spending all of the money my parents had saved their entire life. So I decided to drop out and trust that it would all work out OK. It was pretty scary at the time, but looking back it was one of the best decisions I ever made. The minute I dropped out I could stop taking the required classes that didn’t interest me, and begin dropping in on the ones that looked interesting.\n",
    "\n",
    "It wasn’t all romantic. I didn’t have a dorm room, so I slept on the floor in friends’ rooms, I returned Coke bottles for the 5¢ deposits to buy food with, and I would walk the 7 miles across town every Sunday night to get one good meal a week at the Hare Krishna temple. I loved it. And much of what I stumbled into by following my curiosity and intuition turned out to be priceless later on. Let me give you one example:\n",
    "\n",
    "Reed College at that time offered perhaps the best calligraphy instruction in the country. Throughout the campus every poster, every label on every drawer, was beautifully hand calligraphed. Because I had dropped out and didn’t have to take the normal classes, I decided to take a calligraphy class to learn how to do this. I learned about serif and sans serif typefaces, about varying the amount of space between different letter combinations, about what makes great typography great. It was beautiful, historical, artistically subtle in a way that science can’t capture, and I found it fascinating.\n",
    "\n",
    "None of this had even a hope of any practical application in my life. But 10 years later, when we were designing the first Macintosh computer, it all came back to me. And we designed it all into the Mac. It was the first computer with beautiful typography. If I had never dropped in on that single course in college, the Mac would have never had multiple typefaces or proportionally spaced fonts. And since Windows just copied the Mac, it’s likely that no personal computer would have them. If I had never dropped out, I would have never dropped in on this calligraphy class, and personal computers might not have the wonderful typography that they do. Of course it was impossible to connect the dots looking forward when I was in college. But it was very, very clear looking backward 10 years later.\n",
    "\n",
    "Again, you can’t connect the dots looking forward; you can only connect them looking backward. So you have to trust that the dots will somehow connect in your future. You have to trust in something — your gut, destiny, life, karma, whatever. This approach has never let me down, and it has made all the difference in my life.\n",
    "\n",
    "My second story is about love and loss.\n",
    "\n",
    "I was lucky — I found what I loved to do early in life. Woz and I started Apple in my parents’ garage when I was 20. We worked hard, and in 10 years Apple had grown from just the two of us in a garage into a $2 billion company with over 4,000 employees. We had just released our finest creation — the Macintosh — a year earlier, and I had just turned 30. And then I got fired. How can you get fired from a company you started? Well, as Apple grew we hired someone who I thought was very talented to run the company with me, and for the first year or so things went well. But then our visions of the future began to diverge and eventually we had a falling out. When we did, our Board of Directors sided with him. So at 30 I was out. And very publicly out. What had been the focus of my entire adult life was gone, and it was devastating.\n",
    "\n",
    "I really didn’t know what to do for a few months. I felt that I had let the previous generation of entrepreneurs down — that I had dropped the baton as it was being passed to me. I met with David Packard and Bob Noyce and tried to apologize for screwing up so badly. I was a very public failure, and I even thought about running away from the valley. But something slowly began to dawn on me — I still loved what I did. The turn of events at Apple had not changed that one bit. I had been rejected, but I was still in love. And so I decided to start over.\"\"\"\n",
    "\n",
    "text_content = Content.from_text(text)\n",
    "text_content"
   ]
  },
  {
   "cell_type": "code",
   "execution_count": 5,
   "metadata": {},
   "outputs": [
    {
     "name": "stdout",
     "output_type": "stream",
     "text": [
      "36\n",
      "I am honored to be with you today at your commencement from one of the finest universities in the world. I never graduated from college. Truth be told, this is the closest I’ve ever gotten to a\n",
      "\n",
      "college graduation. Today I want to tell you three stories from my life. That’s it. No big deal. Just three stories.\n"
     ]
    }
   ],
   "source": [
    "params = ChunkExtractionInputParams(\n",
    "    overlap = 0,\n",
    "    chunk_size = 200,\n",
    "    text_splitter='recursive'\n",
    ")\n",
    "\n",
    "res = extractor.extract(text_content, params)\n",
    "\n",
    "print(len(res))\n",
    "print(res[0].data.decode('utf-8'))\n",
    "print()\n",
    "print(res[1].data.decode('utf-8'))"
   ]
  },
  {
   "cell_type": "code",
   "execution_count": 6,
   "metadata": {},
   "outputs": [
    {
     "name": "stderr",
     "output_type": "stream",
     "text": [
      "Created a chunk of size 310, which is longer than the specified 100\n",
      "Created a chunk of size 164, which is longer than the specified 100\n",
      "Created a chunk of size 835, which is longer than the specified 100\n",
      "Created a chunk of size 746, which is longer than the specified 100\n",
      "Created a chunk of size 422, which is longer than the specified 100\n",
      "Created a chunk of size 600, which is longer than the specified 100\n",
      "Created a chunk of size 800, which is longer than the specified 100\n",
      "Created a chunk of size 325, which is longer than the specified 100\n",
      "Created a chunk of size 836, which is longer than the specified 100\n"
     ]
    },
    {
     "name": "stdout",
     "output_type": "stream",
     "text": [
      "12\n",
      "I am honored to be with you today at your commencement from one of the finest universities in the world. I never graduated from college. Truth be told, this is the closest I’ve ever gotten to a college graduation. Today I want to tell you three stories from my life. That’s it. No big deal. Just three stories.\n",
      "\n",
      "The first story is about connecting the dots.\n",
      "\n",
      "I dropped out of Reed College after the first 6 months, but then stayed around as a drop-in for another 18 months or so before I really quit. So why did I drop out?\n"
     ]
    }
   ],
   "source": [
    "params = ChunkExtractionInputParams(\n",
    "    overlap = 0,\n",
    "    text_splitter='char'\n",
    ")\n",
    "\n",
    "res = extractor.extract(text_content, params)\n",
    "\n",
    "print(len(res))\n",
    "print(res[0].data.decode('utf-8'))\n",
    "print()\n",
    "print(res[1].data.decode('utf-8'))\n",
    "print()\n",
    "print(res[2].data.decode('utf-8'))"
   ]
  },
  {
   "cell_type": "markdown",
   "metadata": {},
   "source": [
    "### HTML Splitter\n",
    "\n",
    "Example from langchain's [HTMLHeaderTextSplitter](https://python.langchain.com/docs/modules/data_connection/document_transformers/HTML_header_metadata)"
   ]
  },
  {
   "cell_type": "code",
   "execution_count": 7,
   "metadata": {},
   "outputs": [
    {
     "data": {
      "text/plain": [
       "Content(content_type='text/html', data=b'\\n<!DOCTYPE html>\\n<html>\\n<body>\\n    <div>\\n        <h1>Foo</h1>\\n        <p>Some intro text about Foo.</p>\\n        <div>\\n            <h2>Bar main section</h2>\\n            <p>Some intro text about Bar.</p>\\n            <h3>Bar subsection 1</h3>\\n            <p>Some text about the first subtopic of Bar.</p>\\n            <h3>Bar subsection 2</h3>\\n            <p>Some text about the second subtopic of Bar.</p>\\n        </div>\\n        <div>\\n            <h2>Baz</h2>\\n            <p>Some text about Baz</p>\\n        </div>\\n        <br>\\n        <p>Some concluding text about Foo</p>\\n    </div>\\n</body>\\n</html>\\n', features=[], labels={})"
      ]
     },
     "execution_count": 7,
     "metadata": {},
     "output_type": "execute_result"
    }
   ],
   "source": [
    "html_string = \"\"\"\n",
    "<!DOCTYPE html>\n",
    "<html>\n",
    "<body>\n",
    "    <div>\n",
    "        <h1>Foo</h1>\n",
    "        <p>Some intro text about Foo.</p>\n",
    "        <div>\n",
    "            <h2>Bar main section</h2>\n",
    "            <p>Some intro text about Bar.</p>\n",
    "            <h3>Bar subsection 1</h3>\n",
    "            <p>Some text about the first subtopic of Bar.</p>\n",
    "            <h3>Bar subsection 2</h3>\n",
    "            <p>Some text about the second subtopic of Bar.</p>\n",
    "        </div>\n",
    "        <div>\n",
    "            <h2>Baz</h2>\n",
    "            <p>Some text about Baz</p>\n",
    "        </div>\n",
    "        <br>\n",
    "        <p>Some concluding text about Foo</p>\n",
    "    </div>\n",
    "</body>\n",
    "</html>\n",
    "\"\"\"\n",
    "\n",
    "html_content = Content(\n",
    "    content_type='text/html',\n",
    "    data=html_string.encode('utf-8'),\n",
    ")\n",
    "html_content"
   ]
  },
  {
   "cell_type": "code",
   "execution_count": 8,
   "metadata": {},
   "outputs": [
    {
     "name": "stdout",
     "output_type": "stream",
     "text": [
      "8\n",
      "b'Some intro text about Foo.  \\nBar main section Bar subsection 1 Bar subsection 2'\n",
      "[Feature(feature_type='metadata', name='metadata', value='{\"Header 1\": \"Foo\"}')]\n"
     ]
    }
   ],
   "source": [
    "params = ChunkExtractionInputParams(\n",
    "    text_splitter='html'\n",
    ")\n",
    "\n",
    "res = extractor.extract(html_content, params)\n",
    "\n",
    "print(len(res))\n",
    "print(res[1].data)\n",
    "print(res[1].features)"
   ]
  },
  {
   "cell_type": "markdown",
   "metadata": {},
   "source": [
    "### Mardown Splitter\n",
    "\n",
    "Example from langchain's [MarkdownHeaderTextSplitter](https://python.langchain.com/docs/modules/data_connection/document_transformers/markdown_header_metadata)"
   ]
  },
  {
   "cell_type": "code",
   "execution_count": 9,
   "metadata": {},
   "outputs": [
    {
     "name": "stdout",
     "output_type": "stream",
     "text": [
      "# Foo\n",
      "\n",
      "    ## Bar\n",
      "\n",
      "Hi this is Jim\n",
      "\n",
      "Hi this is Joe\n",
      "\n",
      " ### Boo \n",
      "\n",
      " Hi this is Lance \n",
      "\n",
      " ## Baz\n",
      "\n",
      " Hi this is Molly\n"
     ]
    }
   ],
   "source": [
    "markdown_string = \"# Foo\\n\\n    ## Bar\\n\\nHi this is Jim\\n\\nHi this is Joe\\n\\n ### Boo \\n\\n Hi this is Lance \\n\\n ## Baz\\n\\n Hi this is Molly\"\n",
    "\n",
    "\n",
    "markdown_content = Content(\n",
    "    content_type='text/markdown',\n",
    "    data=markdown_string,\n",
    ")\n",
    "\n",
    "print(markdown_content.data.decode('utf-8'))"
   ]
  },
  {
   "cell_type": "code",
   "execution_count": 10,
   "metadata": {},
   "outputs": [
    {
     "name": "stdout",
     "output_type": "stream",
     "text": [
      "3\n",
      "Hi this is Jim  \n",
      "Hi this is Joe\n",
      "\n",
      "feature_type='metadata' name='metadata' value='{\"Header 1\": \"Foo\", \"Header 2\": \"Bar\"}'\n"
     ]
    }
   ],
   "source": [
    "params = ChunkExtractionInputParams(\n",
    "    text_splitter='markdown'\n",
    ")\n",
    "\n",
    "res = extractor.extract(markdown_content, params)\n",
    "\n",
    "print(len(res))\n",
    "print(res[0].data.decode('utf-8'))\n",
    "print()\n",
    "print(res[0].features[0])"
   ]
  },
  {
   "cell_type": "code",
   "execution_count": null,
   "metadata": {},
   "outputs": [],
   "source": []
  },
  {
   "cell_type": "code",
   "execution_count": null,
   "metadata": {},
   "outputs": [],
   "source": []
  }
 ],
 "metadata": {
  "kernelspec": {
   "display_name": "ve",
   "language": "python",
   "name": "python3"
  },
  "language_info": {
   "codemirror_mode": {
    "name": "ipython",
    "version": 3
   },
   "file_extension": ".py",
   "mimetype": "text/x-python",
   "name": "python",
   "nbconvert_exporter": "python",
   "pygments_lexer": "ipython3",
   "version": "3.11.5"
  }
 },
 "nbformat": 4,
 "nbformat_minor": 2
}
